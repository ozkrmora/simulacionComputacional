{
 "cells": [
  {
   "cell_type": "code",
   "execution_count": 55,
   "metadata": {},
   "outputs": [
    {
     "name": "stdout",
     "output_type": "stream",
     "text": [
      "[0.22, 0.48, 0.3, 0.9, 0.1, 0.1, 0.1, 0.1, 0.1, 0.1, 0.1, 0.1, 0.1, 0.1, 0.1]\n"
     ]
    }
   ],
   "source": [
    "#Metodo midsquare\n",
    "s=12\n",
    "c=s**2\n",
    "num=str(c)\n",
    "x=[]\n",
    "u=[]\n",
    "for y in range(15):\n",
    "    if len(num)%2==1:\n",
    "        num='0'+num\n",
    "    num=num[(len(num)//2)-1]+num[(len(num)//2)]    \n",
    "    x.append(int(num))    \n",
    "    u.append(float('0.'+num))\n",
    "    num=str(int(num)**2)\n",
    "    \n",
    "print(u)"
   ]
  },
  {
   "cell_type": "code",
   "execution_count": 49,
   "metadata": {},
   "outputs": [
    {
     "name": "stdout",
     "output_type": "stream",
     "text": [
      "[0.7368421052631579, 0.8421052631578947, 0.3684210526315789, 0.0, 0.15789473684210525, 0.9473684210526315, 0.8947368421052632, 0.631578947368421, 0.3157894736842105, 0.7368421052631579, 0.8421052631578947, 0.3684210526315789, 0.0, 0.15789473684210525, 0.9473684210526315, 0.8947368421052632, 0.631578947368421, 0.3157894736842105, 0.7368421052631579, 0.8421052631578947, 0.3684210526315789, 0.0, 0.15789473684210525, 0.9473684210526315]\n"
     ]
    }
   ],
   "source": [
    "#Generador congruencial mixto\n",
    "x=6\n",
    "a=4\n",
    "c=8\n",
    "m=7\n",
    "u=[]\n",
    "\n",
    "for o in range(m):\n",
    "    x=((a*x)+c)%m\n",
    "    u.append(x/m)\n",
    "print (u)"
   ]
  },
  {
   "cell_type": "code",
   "execution_count": 50,
   "metadata": {},
   "outputs": [
    {
     "name": "stdout",
     "output_type": "stream",
     "text": [
      "Este generador tiene un ciclo de:  16\n"
     ]
    }
   ],
   "source": [
    "#ciclo de generador congruencial\n",
    "x=7  \n",
    "a=5\n",
    "c=3\n",
    "m=16\n",
    "vinicial=0\n",
    "ciclo=0\n",
    "      \n",
    "while (vinicial!=x):\n",
    "    if(ciclo==0):\n",
    "        vinicial=x\n",
    "    x=((a*x)+c)%m\n",
    "    ciclo+=1\n",
    "        \n",
    "print('Este generador tiene un ciclo de: ',ciclo)\n",
    "        \n",
    "    \n",
    "    \n",
    "    "
   ]
  }
 ],
 "metadata": {
  "kernelspec": {
   "display_name": "Python 3",
   "language": "python",
   "name": "python3"
  },
  "language_info": {
   "codemirror_mode": {
    "name": "ipython",
    "version": 3
   },
   "file_extension": ".py",
   "mimetype": "text/x-python",
   "name": "python",
   "nbconvert_exporter": "python",
   "pygments_lexer": "ipython3",
   "version": "3.6.3"
  }
 },
 "nbformat": 4,
 "nbformat_minor": 2
}
