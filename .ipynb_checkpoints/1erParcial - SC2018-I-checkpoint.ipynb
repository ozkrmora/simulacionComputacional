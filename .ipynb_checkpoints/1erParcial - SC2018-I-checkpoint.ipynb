{
 "cells": [
  {
   "cell_type": "markdown",
   "metadata": {},
   "source": [
    "## 1er Parcial - Simulación Computacional 2018-I\n"
   ]
  },
  {
   "cell_type": "markdown",
   "metadata": {},
   "source": [
    "_(0.5 puntos)_\n",
    "** 1) Son dos distribuciones de probabilidad discretas: 1. Distribución Exponencial 2. Distribución Binomial 3. Distribución Normal 4. Distribución Bernoulli**\n",
    "\n",
    "    A. Si las opciones 1 y 2 son correctas\n",
    "    B. Si las opciones 2 y 3 son correctas\n",
    "    C. Si las opciones 3 y 4 son correctas\n",
    "    D. Si las opciones 2 y 4 son correctas\n",
    "    E. Si las opciones 1 y 3 son correctas    \n",
    "RTA:La respuesra es la C. "
   ]
  },
  {
   "cell_type": "markdown",
   "metadata": {},
   "source": [
    "_(0.5 puntos)_\n",
    "**2) Una secuencia de valores pseudoaletorios debe asegurar: 1. Uniformidad 2. Complejidad 3. Aleatoriedad 4. Circularidad**\n",
    "\n",
    "    A. Si las opciones 1 y 2 son correctas\n",
    "    B. Si las opciones 2 y 3 son correctas\n",
    "    C. Si las opciones 3 y 4 son correctas\n",
    "    D. Si las opciones 2 y 4 son correctas\n",
    "    E. Si las opciones 1 y 3 son correctas\n",
    "RTA: La respuesta es la E."
   ]
  },
  {
   "cell_type": "markdown",
   "metadata": {},
   "source": [
    "_(0.5 puntos)_\n",
    "**3) Sea $X_n = ( aX_{n-1} + b ) \\mod m$ un generador congruencial con los siguientes parámetros: $m=731$, $a=99999$, $b=123$ y $X_0=987654321$ ¿Cúales son los primeros veinticinco números aleatorios $U_i$? (con cuatro cifras decimales de precisión, Ej. 0.1234)**\n"
   ]
  },
  {
   "cell_type": "code",
   "execution_count": 3,
   "metadata": {},
   "outputs": [
    {
     "name": "stdout",
     "output_type": "stream",
     "text": [
      "1 - 0.4241\n",
      "2 - 0.4049\n",
      "3 - 0.2394\n",
      "4 - 0.7373\n",
      "5 - 0.041\n",
      "6 - 0.0944\n",
      "7 - 0.1984\n",
      "8 - 0.8112\n",
      "9 - 0.1081\n",
      "10 - 0.1737\n",
      "11 - 0.4555\n",
      "12 - 0.7483\n",
      "13 - 0.4213\n",
      "14 - 0.8098\n",
      "15 - 0.3105\n",
      "16 - 0.2093\n",
      "17 - 0.1915\n",
      "18 - 0.8235\n",
      "19 - 0.2859\n",
      "20 - 0.8536\n",
      "21 - 0.8317\n",
      "22 - 0.0711\n",
      "23 - 0.6402\n",
      "24 - 0.4159\n",
      "25 - 0.6197\n"
     ]
    }
   ],
   "source": [
    "# Resolver el punto 3 aquí con la respuesta y el código en Python\n",
    "def generador(n):\n",
    "    x=987654321\n",
    "    a=99999\n",
    "    c=123\n",
    "    m=731\n",
    "    u=[]\n",
    "\n",
    "    for o in range(n):        \n",
    "        x=((a*x)+c)%m\n",
    "        print(o+1,'-',round(x/m,4))\n",
    "generador(25)\n",
    "    "
   ]
  },
  {
   "cell_type": "markdown",
   "metadata": {},
   "source": [
    "_(0.5 puntos)_ **4) ¿Cúal es el valor del estadístico de Chi-cuadrado para una secuencia de $2000$ numeros aleatorios y un $k=100$ de un generador congruencial mixto con $a = 16645$, $b = 13467$, $m = 317$, $X_0 = 999$?**"
   ]
  },
  {
   "cell_type": "code",
   "execution_count": 2,
   "metadata": {
    "collapsed": true
   },
   "outputs": [],
   "source": [
    "# Resolver el punto 4 aquí con la respuesta y el código en Python\n",
    "def generador(n):\n",
    "    x=999\n",
    "    a=16645\n",
    "    c=13467\n",
    "    m=317\n",
    "    u=[]\n",
    "\n",
    "    for o in range(n):        \n",
    "        x=((a*x)+c)%m\n",
    "        u.append(x/m)\n",
    "    return (u)\n",
    "def chi():\n",
    "    u=generador(2000)\n",
    "    \n",
    "        "
   ]
  },
  {
   "cell_type": "markdown",
   "metadata": {},
   "source": [
    "_(0.5 puntos)_\n",
    "**5) Sea $X_n = ( aX_{n-1} + b )$ mod $m$ un generador congruencial con los siguientes parámetros: $m=271$, $a=139$, $b=17$ y $X_0=9$, generar los primeros $10$ valores $X_i$ y $U_i$. ¿Cúales son los primeros cinco numeros aleatorios $U_i$?**"
   ]
  },
  {
   "cell_type": "code",
   "execution_count": 5,
   "metadata": {},
   "outputs": [
    {
     "name": "stdout",
     "output_type": "stream",
     "text": [
      "[0.6789667896678967, 0.43911439114391143, 0.0996309963099631, 0.9114391143911439, 0.7527675276752768]\n"
     ]
    }
   ],
   "source": [
    "# Resolver el punto 5 aquí con la respuesta y el código en Python\n",
    "def generador(n):\n",
    "    x=9\n",
    "    a=139\n",
    "    c=17\n",
    "    m=271\n",
    "    v=[]\n",
    "    u=[]\n",
    "\n",
    "    for o in range(n):        \n",
    "        x=((a*x)+c)%m\n",
    "        v.append(x)\n",
    "        u.append(x/m)\n",
    "    \n",
    "    print(u[:5])\n",
    "generador(10)\n",
    "    \n",
    "    \n"
   ]
  },
  {
   "cell_type": "markdown",
   "metadata": {},
   "source": [
    "_(0.5 puntos)_\n",
    "**6) Dados los siguientes valores de la distribución de probabilidad discreta de la variable aleatoria $X$ de un dado: $X = {1,2,3,4,5,6}$, $p(X) = {0.2,0.1,0.05,0.2,0.05,0.4}$, ¿Qué valores retornaría el generador de variables aleatorias por el método de la inversión si los números aleatorios generados son: $U = {0.4280, 0.5609, 0.0258, 0.6531, 0.8487, 0.0332, 0.6790, 0.4391}$?**"
   ]
  },
  {
   "cell_type": "code",
   "execution_count": 8,
   "metadata": {},
   "outputs": [
    {
     "name": "stdout",
     "output_type": "stream",
     "text": [
      "[4, 5, 1, 6, 6, 1, 6, 4]\n"
     ]
    }
   ],
   "source": [
    "# Resolver el punto 6 aquí con la respuesta y el código en Python\n",
    "\n",
    "def TI(a):        \n",
    "    resp=[]\n",
    "    for i in range(len(a)):\n",
    "        x=0\n",
    "        if(a[i]<p[0]):    \n",
    "            x=1\n",
    "        elif (a[i]<p[0]+p[1]):            \n",
    "            x=2\n",
    "        elif (a[i]<p[0]+p[1]+p[2]):            \n",
    "            x=3\n",
    "        elif (a[i]<p[0]+p[1]+p[2]+p[3]):            \n",
    "            x=4\n",
    "        elif (a[i]<p[0]+p[1]+p[2]+p[3]+p[4]):            \n",
    "            x=5\n",
    "        elif (a[i]<p[0]+p[1]+p[2]+p[3]+p[4]+p[5]):\n",
    "            x=6\n",
    "        resp.append(x)                \n",
    "    print(resp)        \n",
    "    \n",
    "p=[0.2,0.1,0.05,0.2,0.05,0.4]\n",
    "a=[0.4280, 0.5609, 0.0258, 0.6531, 0.8487, 0.0332, 0.6790, 0.4391]\n",
    "\n",
    "TI(a)\n"
   ]
  },
  {
   "cell_type": "markdown",
   "metadata": {},
   "source": [
    "_(1 punto)_\n",
    "**7) Ud ha sido contratado para desarrollar un casino en línea. Entre los juegos del casino se necesita implementar un juego de mesa para el lanzamiento de dados el cual es necesario simular. Sin embargo, la novedad del juego en línea es que se lanzan 3 dados del estilo de World of Warcraft (WoW), es decir no necesariamente 3 dados convencionales de seis caras (d6) como en la mayoría de casinos. En este caso, Ud debe:**\n",
    "\n",
    "    a) Implementar una función que simule la suma del lanzamiento de 3 dados usando un generador congruencial mixto y un método de generación de variables aleatorias discretas. En donde, el primer dado tiene cuatro caras (d4), el segundo dado tiene diez caras (d10), y el tercero dado tiene 20 caras (d20).\n",
    "    b) Generar y mostrar la suma de los tres dados para 1000 lanzamientos.\n",
    "\n",
    "**Tomando en cuenta que la variable aleatoria es la suma de las caras de los tres dados, entonces:**\n",
    "\n",
    "    c) ¿Cuál es el valor esperado teórico?\n",
    "    d) ¿Cuál es el promedio de los anteriores 1000 lanzamientos?\n",
    "    e) ¿Cuál es la moda de los anteriores 1000 lanzamientos?"
   ]
  },
  {
   "cell_type": "code",
   "execution_count": 439,
   "metadata": {},
   "outputs": [
    {
     "name": "stdout",
     "output_type": "stream",
     "text": [
      "a). \n",
      "lanzamiento  1  resultado: 12\n",
      "b). \n",
      "c). El valor esperado teórico es igual a la suma de los valores esperados independientes de cada lado\n",
      "valor esperado de d4.  7.0 valor esperado de d10. 46.0 valor esperado de d20. 191.00000000000003\n",
      "valor esperado del numero sumado seria  244.00000000000003\n",
      "promedio  18.446\n",
      "moda  13\n"
     ]
    }
   ],
   "source": [
    "# Resolver el punto 7 aquí con la respuesta y el código en Python\n",
    "import random\n",
    "\n",
    "def generador(n):\n",
    "    x=14\n",
    "    a=7**5\n",
    "    c=8\n",
    "    m=(2**31)-1\n",
    "    u=[]\n",
    "\n",
    "    for o in range(3000):\n",
    "        x=((a*x)+c)%m\n",
    "        u.append(x/m)\n",
    "    return (u)\n",
    "\n",
    "def d4(n):        \n",
    "    a=generador(n)    \n",
    "    resp=[]    \n",
    "    for i in range(n):\n",
    "        random.shuffle(a)\n",
    "        x=0\n",
    "        for j in range(4):            \n",
    "            if a[i]<((j+1)/4):    #probabilidad de caida de una cara\n",
    "                x=j+1                \n",
    "                break\n",
    "        resp.append(x)        \n",
    "    return(resp)    \n",
    "\n",
    "def d10(n):        \n",
    "    a=generador(n)    \n",
    "    resp=[]    \n",
    "    for i in range(n):\n",
    "        random.shuffle(a)\n",
    "        x=0\n",
    "        for j in range(10):                        \n",
    "            if a[i]<((j+1)/10):    #probabilidad de caida de una cara\n",
    "                x=j+1                \n",
    "                break\n",
    "        resp.append(x)        \n",
    "    return(resp)    \n",
    "\n",
    "def d20(n):        \n",
    "    a=generador(n)    \n",
    "    resp=[]    \n",
    "    for i in range(n):\n",
    "        random.shuffle(a)\n",
    "        x=0\n",
    "        for j in range(20):            \n",
    "            if a[i]<((j+1)/20):    #probabilidad de caida de una cara\n",
    "                x=j+1                \n",
    "                break\n",
    "        resp.append(x)        \n",
    "    return(resp)    \n",
    "\n",
    "def milLanzamientos(n):\n",
    "    c=d4(n)    \n",
    "    d=d10(n)\n",
    "    v=d20(n) \n",
    "    resp=[]\n",
    "    for i in range(n):\n",
    "        resp.append(c[i]+d[i]+v[i])\n",
    "        print('lanzamiento ',i+1,' resultado:',resp[i])\n",
    "    return(resp)    \n",
    "\n",
    "def promYModa(a):\n",
    "    s=0\n",
    "    moda=[]\n",
    "    for o in range(34):\n",
    "        moda.append(0)\n",
    "    for i in range(len(a)):\n",
    "        s+=a[i]        \n",
    "        for j in range(34):\n",
    "            if(a[i]==j+1):\n",
    "                moda[j]+=1\n",
    "    u=0\n",
    "                    \n",
    "    print('d). promedio ',s/1000)    \n",
    "    print('e). moda ',moda.index(max(moda))+1)\n",
    "    \n",
    "        \n",
    "def vEsperado():\n",
    "    print('c). El valor esperado teórico es igual a la suma de los valores esperados independientes de cada lado')\n",
    "    vd4=0\n",
    "    vd10=0\n",
    "    vd20=0\n",
    "    for i in range(4):\n",
    "        vd4+=i+1*(1/4)\n",
    "    for i in range(10):\n",
    "        vd10+=i+1*(1/10)    \n",
    "    for i in range(20):\n",
    "        vd20+=i+1*(1/20)    \n",
    "    print('valor esperado de d4. ',vd4,'valor esperado de d10.',vd10,'valor esperado de d20.',vd20)    \n",
    "    print('valor esperado del numero sumado seria ',vd4+vd10+vd20)\n",
    "    \n",
    "print('a). ')\n",
    "milLanzamientos(1)\n",
    "print('b). ')\n",
    "#datos=milLanzamientos(1000)\n",
    "vEsperado()\n",
    "\n",
    "\n",
    "\n",
    "promYModa(datos)\n",
    "\n"
   ]
  },
  {
   "cell_type": "markdown",
   "metadata": {},
   "source": [
    "_(1 punto)_\n",
    "**8) Calcular el área de una elipse con el método de Monte Carlo.**\n",
    "\n",
    "    a) Implemente el método de Monte Carlo para calcular y mostrar el área estimada de una elipse con un semieje mayor $a = 7$ y semieje mejor $b = 4$ centrado en el origen $x,y = (0,0)$ generando $1000$ coordenadas aleatorias (X,Y) en el rango de $X=[-a,a]$ y $Y=[-b,b]$.\n",
    "    b) Calcule el área real de la elipse.\n",
    "    c) Grafique los puntos aleatorios generados que caen dentro del círculo en rojo y los que caen fuera del círculo en azul "
   ]
  },
  {
   "cell_type": "code",
   "execution_count": 6,
   "metadata": {
    "collapsed": true
   },
   "outputs": [],
   "source": [
    "# Resolver el punto 8 aquí con la respuesta y el código en Python"
   ]
  }
 ],
 "metadata": {
  "kernelspec": {
   "display_name": "Python 3",
   "language": "python",
   "name": "python3"
  },
  "language_info": {
   "codemirror_mode": {
    "name": "ipython",
    "version": 3
   },
   "file_extension": ".py",
   "mimetype": "text/x-python",
   "name": "python",
   "nbconvert_exporter": "python",
   "pygments_lexer": "ipython3",
   "version": "3.6.3"
  }
 },
 "nbformat": 4,
 "nbformat_minor": 2
}
