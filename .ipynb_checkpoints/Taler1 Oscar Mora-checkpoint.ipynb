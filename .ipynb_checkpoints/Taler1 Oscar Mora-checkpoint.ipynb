{
 "cells": [
  {
   "cell_type": "markdown",
   "metadata": {
    "collapsed": true
   },
   "source": [
    "#   Taller N°1\n",
    "    Oscar Andrey Mora Babdilla (160003399)\n"
   ]
  },
  {
   "cell_type": "code",
   "execution_count": 33,
   "metadata": {
    "collapsed": true
   },
   "outputs": [],
   "source": [
    "import random\n",
    "import math\n",
    "from datetime import datetime\n",
    "import time"
   ]
  },
  {
   "cell_type": "code",
   "execution_count": 3,
   "metadata": {},
   "outputs": [
    {
     "name": "stdout",
     "output_type": "stream",
     "text": [
      "0 - 5\n",
      "1 - 15\n",
      "2 - 45\n",
      "3 - 135\n",
      "4 - 105\n",
      "5 - 15\n",
      "6 - 45\n",
      "7 - 135\n",
      "8 - 105\n",
      "9 - 15\n",
      "10 - 45\n"
     ]
    }
   ],
   "source": [
    "#1.\n",
    "x=5\n",
    "a=3\n",
    "m=150\n",
    "resultado=[]\n",
    "\n",
    "for o in range(11):\n",
    "    print (o,'-',x)\n",
    "    x=(a*x)%m\n",
    "    \n",
    "    \n",
    "    "
   ]
  },
  {
   "cell_type": "code",
   "execution_count": 8,
   "metadata": {},
   "outputs": [
    {
     "name": "stdout",
     "output_type": "stream",
     "text": [
      "0 - 3\n",
      "1 - 22\n",
      "2 - 117\n",
      "3 - 192\n",
      "4 - 167\n",
      "5 - 42\n",
      "6 - 17\n",
      "7 - 92\n",
      "8 - 67\n",
      "9 - 142\n",
      "10 - 117\n"
     ]
    }
   ],
   "source": [
    "#2.\n",
    "#Generador congruencial mixto\n",
    "x=3\n",
    "a=5\n",
    "c=7\n",
    "m=200\n",
    "\n",
    "for o in range(11):    \n",
    "    print (o,'-',x)\n",
    "    x=((a*x)+c)%m    "
   ]
  },
  {
   "cell_type": "code",
   "execution_count": 94,
   "metadata": {},
   "outputs": [
    {
     "name": "stdout",
     "output_type": "stream",
     "text": [
      "a 100 -  34\n",
      "a 1000 -  333\n",
      "a 10000 -  3315\n"
     ]
    }
   ],
   "source": [
    "#3.\n",
    "def generador(n):    \n",
    "    x=datetime.now().microsecond    \n",
    "    a=7**5\n",
    "    c=8\n",
    "    m=(2**31)-1\n",
    "    u=[]\n",
    "\n",
    "    for o in range(n):\n",
    "        x=((a*x)+c)%m\n",
    "        u.append(x/m)\n",
    "    return (u)\n",
    "\n",
    "\n",
    "def TI(n):\n",
    "    a=generador(n)     \n",
    "    x0=x1=0\n",
    "    for i in range(n):        \n",
    "        if(a[i]<p[0]):    \n",
    "            x0+=1\n",
    "        elif (a[i]<p[0]+p[1]):            \n",
    "            x1+=1\n",
    "    return (x0)        \n",
    "    \n",
    "p=[(1/3),(2/3)]\n",
    "\n",
    "print('a 100 - ',TI(100))\n",
    "print('a 1000 - ',TI(1000))\n",
    "print('a 10000 - ',TI(10000))\n",
    "\n"
   ]
  },
  {
   "cell_type": "code",
   "execution_count": 100,
   "metadata": {},
   "outputs": [
    {
     "name": "stdout",
     "output_type": "stream",
     "text": [
      "a). Valor teorico 6.31656, obtenido:  6.304400054579282\n",
      "b). Valor teorico 0.58905, obtenido:  0.5903973933547085\n",
      "c). Valor teorico 93.1628, obtenido:  95.42927916980436\n",
      "d). Valor teorico 0.5, obtenido:  0.5383274110841038\n",
      "e). Valor teorico 1.77245, obtenido:  1.75583\n",
      "f). Valor teorico 4.89916, obtenido:  4.92941\n"
     ]
    }
   ],
   "source": [
    "#4.\n",
    "#a)\n",
    "suma=0\n",
    "n=100000\n",
    "x=generador(n)\n",
    "for i in range(n):    \n",
    "    y=math.exp(math.exp(x[i]))*(1-0)\n",
    "    suma=suma+y    \n",
    "print ('a). Valor teorico 6.31656, obtenido: ', suma/n)\n",
    "\n",
    "#b)\n",
    "suma=0\n",
    "n=100000\n",
    "x=generador(n)\n",
    "for i in range(n):    \n",
    "    y=((1-x[i]**2)**(3/2))*(1-0)\n",
    "    suma=suma+y    \n",
    "print ('b). Valor teorico 0.58905, obtenido: ', suma/n)\n",
    "\n",
    "#c)\n",
    "suma=0\n",
    "n=100000\n",
    "x=generador(n)\n",
    "for i in range(n):    \n",
    "    u=x[i]*(2+2)-2\n",
    "    y=(math.exp(u+u**2))*(2+2)\n",
    "    suma=suma+y    \n",
    "print ('c). Valor teorico 93.1628, obtenido: ', suma/n)\n",
    "\n",
    "#d)\n",
    "suma=0\n",
    "a=0\n",
    "b=999\n",
    "n=100000\n",
    "x=generador(n)\n",
    "for i in range(n):    \n",
    "    u=x[i]*(b-a)+a\n",
    "    y=(u*(1+u**2)**(-2))*(b-a)\n",
    "    suma=suma+y    \n",
    "print ('d). Valor teorico 0.5, obtenido: ', suma/n)\n",
    "\n",
    "#e)\n",
    "suma=0\n",
    "a=-3\n",
    "b=3\n",
    "n=10000\n",
    "x=generador(n)\n",
    "for i in range(n):    \n",
    "    u=(x[i]*(b-a))+a\n",
    "    y=(b-a)*math.e**(-u**(2))\n",
    "    suma=suma+y\n",
    "print ('e). Valor teorico 1.77245, obtenido: ', round(suma/n,5))\n",
    "\n",
    "#f)\n",
    "suma=0\n",
    "n=10000\n",
    "x=generador(n)\n",
    "y=generador(n)\n",
    "for i in range(n):    \n",
    "    u=x[i]*(1-0)+0\n",
    "    u2=y[i]*(1-0)+0\n",
    "    Y=math.exp((u+u2)**2)*(1-0)\n",
    "    suma=suma+Y\n",
    "print ('f). Valor teorico 4.89916, obtenido: ', round(suma/n,5))\n"
   ]
  },
  {
   "cell_type": "code",
   "execution_count": 158,
   "metadata": {},
   "outputs": [
    {
     "name": "stdout",
     "output_type": "stream",
     "text": [
      "a) Poisson v.a.d. 18  con lambda 20\n",
      "b) Binomial v.a.d.  26  y n=40 y p=0.7\n",
      "c) Aceptacion y Rechazo v.a.d. 6 \n",
      "d) Composicion v.a.d.  10\n"
     ]
    }
   ],
   "source": [
    "#5.\n",
    "#a) poisson\n",
    "\n",
    "def poisson(lmd):\n",
    "    a=generador(100)    \n",
    "    p=math.exp(-lmd)\n",
    "    f=p\n",
    "    x=0\n",
    "    for i in range(100):\n",
    "        u=a[i]\n",
    "        if u<f:\n",
    "            x=i\n",
    "            break\n",
    "        p=(p*lmd)/(i+1)\n",
    "        f+=p\n",
    "    return (x)\n",
    "print('a) Poisson v.a.d.',poisson(20),' con lambda 20')\n",
    "\n",
    "#b).\n",
    "def binomial(n,p):\n",
    "    a=generador(100)\n",
    "    c=p/(1-p)\n",
    "    pr=(1-p)**n    \n",
    "    f=pr\n",
    "    x=0\n",
    "    for i in range(100):\n",
    "        u=a[i]\n",
    "        if u<f:\n",
    "            x=i\n",
    "            break\n",
    "        pr=(c*(n-i)/(i+1))*pr\n",
    "        f+=pr\n",
    "    return (x)\n",
    "print('b) Binomial v.a.d. ',binomial(40,0.7),' y n=40 y p=0.7')\n",
    "\n",
    "#c).\n",
    "\n",
    "pj=[0.11,0.12,0.09,0.08,0.12,0.10,0.09,0.09,0.10,0.10]\n",
    "qj=[0.1]\n",
    "\n",
    "def md(a,b):\n",
    "    x=[]\n",
    "    for i in range(len(a)):\n",
    "        x.append(a[i]/b[0])\n",
    "    return max(x)\n",
    "\n",
    "def aceptacionYRechazo():\n",
    "    a=generador(100)        \n",
    "    b=generador(100)\n",
    "    random.shuffle(a) \n",
    "    random.shuffle(b) \n",
    "    c=md(pj,qj)\n",
    "    x=0        \n",
    "    for i in range(1000):\n",
    "        u=int(a[i]*10)+1\n",
    "        u2=b[i]       \n",
    "        if u2<=pj[u-1]/(c*qj[0]):\n",
    "            x=u\n",
    "            break\n",
    "        \n",
    "    return (x)\n",
    "print('c) Aceptacion y Rechazo v.a.d.',aceptacionYRechazo(),'')\n",
    "\n",
    "#d)\n",
    "def composicion():\n",
    "    u1=generador(100)    \n",
    "    time.sleep(0.15)\n",
    "    u2=generador(100)    \n",
    "    \n",
    "    if(u1[0]<0.5):\n",
    "        return(int(10*u2[0])+1)\n",
    "    else:\n",
    "        return(int(5*u2[0])+6)\n",
    "\n",
    "print(\"d) Composicion v.a.d. \",composicion())\n",
    "\n",
    "              "
   ]
  },
  {
   "cell_type": "code",
   "execution_count": 13,
   "metadata": {},
   "outputs": [
    {
     "name": "stdout",
     "output_type": "stream",
     "text": [
      "Varianza  0.99\n",
      "exitos 1\n",
      "Esperanza estimada  14.20194294371212\n",
      "Varianza  1992766.7011438422\n"
     ]
    }
   ],
   "source": [
    "#6. \n",
    "import random\n",
    "def cartas():\n",
    "    c=[]\n",
    "    for i in range(1,101):\n",
    "        c.append(i)\n",
    "    random.shuffle(c)    \n",
    "    return (c)\n",
    "def exitos():\n",
    "    c=cartas()    \n",
    "    e=0\n",
    "    salientes=[0]\n",
    "    p=[]\n",
    "    Estimada=0\n",
    "    E=0\n",
    "    \n",
    "    for i in range (1,len(c)+1):               \n",
    "        pr=i*(1/(100-i+1))              #Probabilidad de sacar una carta        \n",
    "        E+=pr\n",
    "        if i in salientes:                     \n",
    "            pr=0                        #carta ya sacada\n",
    "        else:             \n",
    "            t=0\n",
    "            for a in salientes:\n",
    "                if a>i:\n",
    "                    t+=1\n",
    "            pr*=(100-i+1-t)/(100-i+1)   #Probabilidad de sacar una carta que no sea una inhabil\n",
    "        if (c[i-1]==i): \n",
    "            e+=1\n",
    "        p.append(pr)    \n",
    "        Estimada+=pr\n",
    "        d=0\n",
    "        salientes.append(c[i-1]) \n",
    "    v=0\n",
    "    for i in range(1,101):\n",
    "        v+=p[i-1]*((i-E)**2)\n",
    "        \n",
    "    \n",
    "    print ('exitos',e)     \n",
    "    print('Esperanza estimada ',Estimada)\n",
    "    print('Varianza ',e*(1-(e/100)))          \n",
    "    \n",
    "exitos()     \n"
   ]
  },
  {
   "cell_type": "code",
   "execution_count": 11,
   "metadata": {},
   "outputs": [
    {
     "name": "stdout",
     "output_type": "stream",
     "text": [
      "a). \n"
     ]
    },
    {
     "data": {
      "image/png": "[encoded data removed]",
      "text/plain": [
       "<matplotlib.figure.Figure at 0x182f970ba58>"
      ]
     },
     "metadata": {},
     "output_type": "display_data"
    },
    {
     "name": "stdout",
     "output_type": "stream",
     "text": [
      "Mayor Diferencia:  0.33367\n",
      "Estadistico:  0.04301\n",
      "El generador no garantiza la uniformidad\n",
      " \n",
      "b). \n"
     ]
    },
    {
     "data": {
      "image/png": "[encoded data removed]",
      "text/plain": [
       "<matplotlib.figure.Figure at 0x182ff5b0b00>"
      ]
     },
     "metadata": {},
     "output_type": "display_data"
    },
    {
     "name": "stdout",
     "output_type": "stream",
     "text": [
      "Mayor Diferencia:  0.25051\n",
      "Estadistico:  0.04301\n",
      "El generador no garantiza la uniformidad\n",
      " \n",
      "c). \n"
     ]
    },
    {
     "data": {
      "image/png": "[encoded data removed]",
      "text/plain": [
       "<matplotlib.figure.Figure at 0x182ff621240>"
      ]
     },
     "metadata": {},
     "output_type": "display_data"
    },
    {
     "name": "stdout",
     "output_type": "stream",
     "text": [
      "Mayor Diferencia:  0.25312\n",
      "Estadistico:  0.04301\n",
      "El generador no garantiza la uniformidad\n",
      " \n"
     ]
    }
   ],
   "source": [
    "#7.\n",
    "import numpy as np\n",
    "import scipy as sp\n",
    "import matplotlib.pyplot as plt\n",
    "from scipy import stats\n",
    "\n",
    "def generadorKS(x,a,c,m,n):\n",
    "    num=[]\n",
    "    xn=x\n",
    "    for i in range (n):\n",
    "        xn=(a*xn+c)%(m)\n",
    "        num.append(xn/m)\n",
    "    return num\n",
    "    \n",
    "def KS(x,a,c,m,n):\n",
    "    u = generadorKS(x,a,c,m,n)\n",
    "    d=grafica(u,n)        \n",
    "    estadistico =1.36/(1000**(1/2))\n",
    "    print(\"Mayor Diferencia: \",round(d,5))\n",
    "    print(\"Estadistico: \",round(estadistico,5))\n",
    "    if d > estadistico: \n",
    "        print(\"El generador no garantiza la uniformidad\")\n",
    "    else: \n",
    "        print(\"El generador garantiza la uniformidad\")\n",
    "    print(\" \")\n",
    "    \n",
    "    \n",
    "def grafica(x,n):\n",
    "    u = [1.0] * n\n",
    "    x1 = np.arange(1/n,1+1/n,1/n)\n",
    "    y1 = np.cumsum(np.sort(u)/np.max(np.cumsum(u)))\n",
    "    x2 = np.sort(x)\n",
    "    y2 = np.cumsum(np.sort(x)/np.max(np.cumsum(x)))\n",
    "    De=np.absolute(y2-y1)\n",
    "    plt.plot(x1,y1,label='CDF')\n",
    "    plt.step(x2,y2,label='ECDF')\n",
    "    x3 = [x1[De.argmax()],x1[De.argmax()]]\n",
    "    y3 = [np.min([y1[De.argmax()],y2[De.argmax()]]),np.max([y1[De.argmax()],y2[De.argmax()]])]\n",
    "    plt.step(x3,y3,label='D')\n",
    "    plt.legend()\n",
    "    plt.xlabel('X')\n",
    "    plt.ylabel('Probabilidad Acumulada P(X)')\n",
    "    plt.ylim(0, 1.05)\n",
    "    plt.show()\n",
    "    return(np.max(De))   \n",
    "    \n",
    "print(\"a). \")\n",
    "KS(7,5,0,150,1000)\n",
    "print(\"b). \")\n",
    "KS(3,175,1,2**31,1000)\n",
    "print(\"c). \")\n",
    "KS(3,22695477,1,2**32,1000)"
   ]
  },
  {
   "cell_type": "code",
   "execution_count": 9,
   "metadata": {},
   "outputs": [
    {
     "name": "stdout",
     "output_type": "stream",
     "text": [
      "a)  Este generador NO garantiza la uniformidad\n",
      "b)  Este generador garantiza la uniformidad\n",
      "c)  Este generador garantiza la uniformidad\n"
     ]
    }
   ],
   "source": [
    "#8\n",
    "import matplotlib.pyplot as plt\n",
    "%matplotlib inline\n",
    "\n",
    "def generadorChi(x,a,c,m,n):\n",
    "    num=[]\n",
    "    xn=x\n",
    "    for i in range (n):\n",
    "        xn=(a*xn+c)%(m)\n",
    "        num.append(xn/m)\n",
    "    return num\n",
    "\n",
    "def chiCuadrado (x):\n",
    "    frecuencias, separa, aux = plt.hist(x, k, normed=False)\n",
    "    plt.close()\n",
    "    suma = 0    \n",
    "    for m in range(1,k+1):\n",
    "        suma+=((frecuencias[m-1]-ei)**2)/ei    \n",
    "    \n",
    "    if suma<valort:\n",
    "        return (\"Este generador garantiza la uniformidad\")\n",
    "    else:\n",
    "        return (\"Este generador NO garantiza la uniformidad\")\n",
    "\n",
    "\n",
    "k = 10\n",
    "N = 1000\n",
    "\n",
    "ei = N/k\n",
    "grados = k-1\n",
    "valort = 16.919\n",
    "    \n",
    "xa = generadorChi(7,5,0,150,N)\n",
    "print(\"a) \",chiCuadrado(xa))\n",
    "\n",
    "xb = generadorChi(3,157,1,2**31,N)\n",
    "print(\"b) \",chiCuadrado(xb))\n",
    "\n",
    "xc = generadorChi(3,22695477,1,2**32,N)\n",
    "print(\"c) \",chiCuadrado(xc))"
   ]
  },
  {
   "cell_type": "code",
   "execution_count": 22,
   "metadata": {},
   "outputs": [
    {
     "name": "stdout",
     "output_type": "stream",
     "text": [
      "a)\n",
      "unos:  499  ceros:  500  Rachas:  999\n",
      "Z =  -24.98516\n",
      "Z2 =  31.55956\n",
      "No cumple criterio de aleatoriedad\n",
      "\n",
      "b)\n",
      "unos:  486  ceros:  513  Rachas:  676\n",
      "Z =  -33.07154\n",
      "Z2 =  11.14196\n",
      "No cumple criterio de aleatoriedad\n",
      "\n",
      "c)\n",
      "unos:  506  ceros:  493  Rachas:  645\n",
      "Z =  -33.84763\n",
      "Z2 =  9.15505\n",
      "No cumple criterio de aleatoriedad\n",
      "\n"
     ]
    }
   ],
   "source": [
    "#9\n",
    "\n",
    "def generadorR(x,a,c,m,n):\n",
    "    num=[]\n",
    "    xn=x\n",
    "    for i in range (n):\n",
    "        xn=(a*xn+c)%(m)\n",
    "        num.append(xn/m)\n",
    "    return num\n",
    "\n",
    "def testRachas (x):\n",
    "    test=[]\n",
    "    for i in range(N-1):\n",
    "        if x[i]<x[i+1]:\n",
    "            test.append(1)\n",
    "        else:\n",
    "            test.append(0)\n",
    "    return (test)\n",
    "    \n",
    "def contarRachas(s):    \n",
    "    unos = False\n",
    "    ceros = False\n",
    "    r = 0\n",
    "    n1 = 0 \n",
    "    n2 = 0 \n",
    "    for j in range(len(s)):\n",
    "        if s[j]==1:\n",
    "            n1+=1            \n",
    "            if unos==False:\n",
    "                r+=1\n",
    "                unos = True\n",
    "                ceros = False            \n",
    "        else:\n",
    "            n2+=1            \n",
    "            if ceros==False:\n",
    "                r+=1\n",
    "                ceros = True\n",
    "                unos = False\n",
    "    print(\"unos: \",n1,\" ceros: \",n2,\" Rachas: \",r)\n",
    "    return [n1,n2,r]\n",
    "\n",
    "def estadistico(l):\n",
    "    n1 = l[0]\n",
    "    n2 = l[1]\n",
    "    R = l[2]\n",
    "    n = n1+n2\n",
    "    Z = ((R - ((2*n)-1))/3)/(math.sqrt((16*n-29)/90))\n",
    "    print(\"Z = \", round(Z,5))\n",
    "    \n",
    "    miu = (2*n1*n2)/(n1+n2)+1\n",
    "    sigma = (((2*n1*n2)*(2*n1*n2-n1-n2))/(((n1+n2)**2)*(n1+n2-1)))**(1/2)\n",
    "    Z2 = (R-miu)/(sigma)\n",
    "    print(\"Z2 = \", round(Z2,5))\n",
    "    \n",
    "    if abs(Z)>ZalfaMedios:\n",
    "        print(\"No cumple criterio de aleatoriedad\")\n",
    "    else:\n",
    "        print(\"Sí cumple criterio de aleatoriedad\")\n",
    "    print(\"\")    \n",
    "    \n",
    "N = 1000\n",
    "ZalfaMedios = 0\n",
    "print('a)')\n",
    "xa = generadorR(7,5,0,150,N)\n",
    "R1 = contarRachas(testRachas(xa))\n",
    "estadistico(R1)\n",
    "\n",
    "print('b)')\n",
    "xb = generadorR(3,157,1,2**31,N)\n",
    "R2 = contarRachas(testRachas(xb))\n",
    "estadistico(R2)\n",
    "    \n",
    "print('c)')\n",
    "xc = generadorR(3,22695477,1,2**32,N)\n",
    "R3 = contarRachas(testRachas(xc))\n",
    "estadistico(R3)           \n",
    "\n",
    "\n"
   ]
  },
  {
   "cell_type": "code",
   "execution_count": 17,
   "metadata": {},
   "outputs": [
    {
     "name": "stdout",
     "output_type": "stream",
     "text": [
      "a) Área Simulada de la Elipse: 48.66000000000001\n",
      "b) Área Real de la Elipse: 47.12388980384689\n",
      "b) Diferencia entre la Área Real y la Área Simulada: 1.5361101961531176\n",
      "d) Gráfica:\n"
     ]
    },
    {
     "data": {
      "image/png": "[encoded data removed]",
      "text/plain": [
       "<matplotlib.figure.Figure at 0x263cfe39630>"
      ]
     },
     "metadata": {},
     "output_type": "display_data"
    }
   ],
   "source": [
    "#10\n",
    "from datetime import datetime\n",
    "import time\n",
    "import math\n",
    "import matplotlib.pyplot as plt\n",
    "\n",
    "def generador(n):    \n",
    "    x=datetime.now().microsecond    \n",
    "    a=7**5\n",
    "    c=8\n",
    "    m=(2**31)-1\n",
    "    u=[]\n",
    "\n",
    "    for o in range(n):\n",
    "        x=((a*x)+c)%m\n",
    "        u.append(x/m)\n",
    "    return (u)\n",
    "\n",
    "\n",
    "def sArea(a,b,n):\n",
    "    u1=generador(n)\n",
    "    time.sleep(0.15)\n",
    "    u2=generador(n)\n",
    "    cont=0\n",
    "    for i in range(n):\n",
    "        x=10*u1[i]-5\n",
    "        y=6*u2[i]-3\n",
    "        if ((x**2)/a**2)+((y**2)/b**2)<=1:\n",
    "            Xin.append(x)\n",
    "            Yin.append(y)\n",
    "            cont+=1\n",
    "        else:\n",
    "            Xout.append(x)\n",
    "            Yout.append(y)\n",
    "    \n",
    "    return((cont/n)*4*a*b)\n",
    "   \n",
    "def graficar():\n",
    "    plt.plot(Xin,Yin,'ro')\n",
    "    plt.plot(Xout,Yout,'bo')\n",
    "    plt.show()\n",
    "    \n",
    "     \n",
    "a=5\n",
    "b=3\n",
    "n=1000\n",
    "Xout=[]\n",
    "Yout=[]\n",
    "Xin=[]\n",
    "Yin=[] \n",
    "simu=sArea(a,b,n)\n",
    "print(\"a) Área Simulada de la Elipse:\",simu)\n",
    "print(\"b) Área Real de la Elipse:\",math.pi*a*b)\n",
    "print(\"b) Diferencia entre la Área Real y la Área Simulada:\",abs(math.pi*a*b-simu))\n",
    "print(\"d) Gráfica:\")\n",
    "graficar()    "
   ]
  },
  {
   "cell_type": "code",
   "execution_count": null,
   "metadata": {
    "collapsed": true
   },
   "outputs": [],
   "source": []
  }
 ],
 "metadata": {
  "kernelspec": {
   "display_name": "Python 3",
   "language": "python",
   "name": "python3"
  },
  "language_info": {
   "codemirror_mode": {
    "name": "ipython",
    "version": 3
   },
   "file_extension": ".py",
   "mimetype": "text/x-python",
   "name": "python",
   "nbconvert_exporter": "python",
   "pygments_lexer": "ipython3",
   "version": "3.6.3"
  }
 },
 "nbformat": 4,
 "nbformat_minor": 2
}
