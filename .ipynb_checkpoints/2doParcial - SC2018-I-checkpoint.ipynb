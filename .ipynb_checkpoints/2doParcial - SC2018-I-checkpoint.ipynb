{
 "cells": [
  {
   "cell_type": "markdown",
   "metadata": {},
   "source": [
    "## 2do Parcial - Simulación Computacional 2018-I 160003399"
   ]
  },
  {
   "cell_type": "markdown",
   "metadata": {
    "collapsed": true
   },
   "source": [
    "# 1. (1.5 puntos)\n",
    "\n",
    "Se tiene un sistema de línea de espera con un servidor y capacidad infinita (Modelo de Colas G/G/1) (Ver [Presentación](https://docs.google.com/a/unillanos.edu.co/presentation/d/19dSItA2blI4TOf8IExeJWjmF_2VWCRa7hqKkEdYuJfY/edit?usp=sharing) ), en el cual tanto los tiempos de llegada entre clientes, así como los tiempos de atención del servidor se comportan como  variables aleatorias generadas de distribuciones de probabilidad exponenciales, en donde en promedio llegan A clientes por minuto al sistema y el servidor atiende en promedio B clientes por minuto. La simulación inicia en el tiempo $t=0$ y se deja de permitir el ingreso de mas clientes en el sistema en el tiempo $T=100$.\n",
    "\n",
    "Para analizar el sistema Ud. debe usar la implementación de acuerdo con el Modelo de Colas G/G/1 visto en clase (diapositivas 42 y 43 [Presentación](https://docs.google.com/a/unillanos.edu.co/presentation/d/19dSItA2blI4TOf8IExeJWjmF_2VWCRa7hqKkEdYuJfY/edit?usp=sharing) )). \n",
    "\n",
    "Para la generación de las variables aleatorias con distribución exponencial debe usar el método de la inversión para variables aleatorias continuas usando generadores congruenciales mixtos. _Ayuda: El método de inversión para variables aleatorias continuas debe usar la función inversa $F^{-1}(p)$ de la distribución de probabilidad acumulada de la distribución exponencial en donde el valor $p$ proviene del generador congruencial mixto_.\n",
    "\n",
    "Para la generación de las variables aleatorias de los tiempos entre las llegadas de clientes (variable aleatoria $X$) debe generar variables aleatorias continuas de una distribución exponencial con $\\lambda = A$ a partir de un generador congruencial Borland C/C++ (i.e. $a = 22695477$, $c = 1$, $m=2^{32}$) y semilla $X_0 = 123456789$.\n",
    "\n",
    "Para la generación de las variables aleatorias de los tiempos de atención del servidor (variable aleatoria $Y$) debe generar variables aleatorias continuas de una distribución exponencial con $\\lambda = B$ a partir de un generador congruencial RANDU (i.e. $a = 65539$, $c = 0$, $m=2^{31}$) y semilla $X_0 = 987654321$.\n",
    "\n",
    "Con su implementación para el análisis del sistema por favor responda lo siguiente:\n",
    "\n",
    "1. Tiempo promedio de los clientes en el sistema.\n",
    "2. Tiempo promedio de los clientes en la cola.\n",
    "3. Tiempo transcurrido desde $T$ hasta que el último cliente abandona el sistema.\n",
    "4. Número máximo de clientes en el sistema durante la simulación.\n",
    "\n",
    "Para los siguientes casos:\n",
    "\n",
    "    A. Para A = 3 y B = 5.\n",
    "    B. Para A = 6 y B = 2.\n",
    "    C. Para A = 4 y B = 4.\n",
    "    D. Para A = 2 y B = 3.\n",
    "\n",
    "Analice y discuta brevemente los resultados."
   ]
  },
  {
   "cell_type": "code",
   "execution_count": 3,
   "metadata": {},
   "outputs": [],
   "source": [
    "A.1.0.04387432836485306\n",
    "A.2.1.0993079106190104\n",
    "A.3.99.851940730355\n",
    "A.4.1068\n",
    "\n",
    "B.1.  0.10989199726723249\n",
    "B.2.4.418022335821082\n",
    "B.3. 100.06877111301\n",
    "B.4.2136\n",
    "\n",
    "C.1.  0.0548944545448437\n",
    "C.2. 3.31351675186581\n",
    "C.3. 99.93833628696\n",
    "C.4.1424\n",
    "\n",
    "D.1.  0.0729864297046912\n",
    "D.2.2.752168031549721\n",
    "D.3. 99.73052876483\n",
    "D.4.712\n",
    "\n"
   ]
  },
  {
   "cell_type": "markdown",
   "metadata": {},
   "source": [
    "\n",
    "## 2. (1.5 puntos)\n",
    "\n",
    "**Tomando como base el ejemplo de SimPy \"Bank Renege\" implementado por Ud. en el Taller T8 de Caso de uso de eventos discretos: Bank Renege, (http://simpy.readthedocs.io/en/latest/examples/bank_renege.html), y en el caso en el cual se tienen los siguientes valores:**\n",
    "\n",
    "    RANDOM_SEED = 666\n",
    "    NEW_CUSTOMERS = 5 \n",
    "    INTERVAL_CUSTOMERS = 5.0\n",
    "    MIN_PATIENCE = 2\n",
    "    MAX_PATIENCE = 4\n",
    "\n",
    "**Responda lo siguiente:**\n",
    "\n",
    "    ¿En qué tiempo de simulación y cuánto tiempo esperó el primer cliente que 'renegó' (abandonó) de tanto esperar en la fila?\n",
    "    \n",
    "    "
   ]
  },
  {
   "cell_type": "markdown",
   "metadata": {},
   "source": [
    "# Respuesta #2\n",
    "Tiempo de de simulación: 6.6678\n",
    "Tiempo de espera en fila: 3.623"
   ]
  },
  {
   "cell_type": "markdown",
   "metadata": {},
   "source": [
    "## 3. (1 puntos)\n",
    "\n",
    "**¿Qué hace el siguiente código de NetLogo?**\n",
    "\n",
    "    to iniciar\n",
    "    ca\n",
    "    crt 1\n",
    "    ask turtles [pd repeat 3 [fd 7 rt 120] pu]\n",
    "    end    "
   ]
  },
  {
   "cell_type": "markdown",
   "metadata": {},
   "source": [
    "# Respuesta #3\n",
    "Se crea un metodo llamado iniciar, en el cúal se limpia todo el área de trabajo (ca) y luego se crea un agente (ctr 1), \n",
    "posteriormente se habilita el dibujo de trayectoria (pd)  y se implementa una ruta que seguirá el agente repitiendo en 3\n",
    "ocasiones (repeat 3) una trayectoria recta de 7 unidades (fd 7), girando en cada oportunidad 120 grados (rt 120), y arrojando \n",
    "como resultado el dibujo de un triangulo equilatero de lado 7, por ultimo se levanta la plumilla (pu)."
   ]
  },
  {
   "cell_type": "markdown",
   "metadata": {},
   "source": [
    "## 4. (1 puntos)\n",
    "**¿Cúales de las siguiente reglas no pertenecen al juego de la vida de Conway?**\n",
    "\n",
    "1. Cualquier célula muerta con dos o tres vecinos vivos sigue muerta a la siguiente generación.\n",
    "2. Cualquier célula viva con dos o tres vecinos vivos vive a la siguiente generación.\n",
    "3. Cualquier célula viva con cuatro vecinos vivos muere por falta de población.\n",
    "4. Cualquier célula viva con más de tres vecinos vivos muerte por un exceso de población.\n",
    "5. Cualquier célula muerta con exactamente tres vecinos vivos se convierte en una célula viva por reproducción.\n",
    "6. Cualquier célula viva con menos de dos vecinos vivos muere por falta de población."
   ]
  },
  {
   "cell_type": "markdown",
   "metadata": {},
   "source": [
    "# Respuesta #4 \n",
    "1.Cualquier célula muerta con dos o tres vecinos vivos sigue muerta a la siguiente generación. y la #\n",
    "3.Cualquier célula viva con cuatro vecinos vivos muere por falta de población."
   ]
  }
 ],
 "metadata": {
  "kernelspec": {
   "display_name": "Python 3",
   "language": "python",
   "name": "python3"
  },
  "language_info": {
   "codemirror_mode": {
    "name": "ipython",
    "version": 3
   },
   "file_extension": ".py",
   "mimetype": "text/x-python",
   "name": "python",
   "nbconvert_exporter": "python",
   "pygments_lexer": "ipython3",
   "version": "3.6.3"
  }
 },
 "nbformat": 4,
 "nbformat_minor": 2
}
