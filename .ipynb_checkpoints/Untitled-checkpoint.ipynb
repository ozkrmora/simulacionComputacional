{
 "cells": [
  {
   "cell_type": "code",
   "execution_count": 5,
   "metadata": {},
   "outputs": [
    {
     "name": "stdout",
     "output_type": "stream",
     "text": [
      "[0.42857142857142855, 0.7142857142857143, 0.8571428571428571, 0.42857142857142855, 0.7142857142857143, 0.8571428571428571, 0.42857142857142855]\n"
     ]
    }
   ],
   "source": [
    "x=6\n",
    "a=4\n",
    "m=7\n",
    "u=[]\n",
    "\n",
    "for o in range(m):\n",
    "    x=a*x%m\n",
    "    u.append(x/m)\n",
    "print (u)"
   ]
  },
  {
   "cell_type": "code",
   "execution_count": 1,
   "metadata": {},
   "outputs": [
    {
     "name": "stdout",
     "output_type": "stream",
     "text": [
      "[0.5714285714285714, 0.42857142857142855, 0.8571428571428571, 0.5714285714285714, 0.42857142857142855, 0.8571428571428571, 0.5714285714285714]\n"
     ]
    }
   ],
   "source": [
    "x=6\n",
    "a=4\n",
    "c=8\n",
    "m=7\n",
    "u=[]\n",
    "\n",
    "for o in range(m):\n",
    "    x=((a*x)+c)%m\n",
    "    u.append(x/m)\n",
    "print (u)"
   ]
  },
  {
   "cell_type": "code",
   "execution_count": null,
   "metadata": {
    "collapsed": true
   },
   "outputs": [],
   "source": []
  }
 ],
 "metadata": {
  "kernelspec": {
   "display_name": "Python 3",
   "language": "python",
   "name": "python3"
  },
  "language_info": {
   "codemirror_mode": {
    "name": "ipython",
    "version": 3
   },
   "file_extension": ".py",
   "mimetype": "text/x-python",
   "name": "python",
   "nbconvert_exporter": "python",
   "pygments_lexer": "ipython3",
   "version": "3.6.3"
  }
 },
 "nbformat": 4,
 "nbformat_minor": 2
}
