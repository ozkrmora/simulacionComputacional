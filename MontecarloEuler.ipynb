{
 "cells": [
  {
   "cell_type": "code",
   "execution_count": 4,
   "metadata": {},
   "outputs": [
    {
     "name": "stdout",
     "output_type": "stream",
     "text": [
      "1.762031960921697\n"
     ]
    }
   ],
   "source": [
    "import math\n",
    "import random\n",
    "suma=0\n",
    "n=0\n",
    "x=0\n",
    "while n<10000:\n",
    "    x=2*random.random()\n",
    "    y=2*math.exp(-x*x)*(2-0)-0\n",
    "    suma=suma+y\n",
    "    n=n+1\n",
    "print (suma/n)    "
   ]
  },
  {
   "cell_type": "code",
   "execution_count": 14,
   "metadata": {},
   "outputs": [
    {
     "name": "stdout",
     "output_type": "stream",
     "text": [
      "0.881893896016479\n"
     ]
    }
   ],
   "source": [
    "#Método numérico del trapecio\n",
    "import math\n",
    "\n",
    "paso=0.01\n",
    "suma=0\n",
    "x=0\n",
    "x1=0\n",
    "x2=paso\n",
    "fx2=0\n",
    "tria=0\n",
    "\n",
    "while x2<=2:\n",
    "    fx2=math.exp(-x2*x2)\n",
    "    tria=(math.exp(-x1*x1)-fx2)*paso/2\n",
    "    suma= suma+tria+fx2*paso\n",
    "    x1=x2\n",
    "    x2=x2+paso\n",
    "print(suma)    \n"
   ]
  },
  {
   "cell_type": "code",
   "execution_count": null,
   "metadata": {
    "collapsed": true
   },
   "outputs": [],
   "source": []
  }
 ],
 "metadata": {
  "kernelspec": {
   "display_name": "Python 3",
   "language": "python",
   "name": "python3"
  },
  "language_info": {
   "codemirror_mode": {
    "name": "ipython",
    "version": 3
   },
   "file_extension": ".py",
   "mimetype": "text/x-python",
   "name": "python",
   "nbconvert_exporter": "python",
   "pygments_lexer": "ipython3",
   "version": "3.6.3"
  }
 },
 "nbformat": 4,
 "nbformat_minor": 2
}
